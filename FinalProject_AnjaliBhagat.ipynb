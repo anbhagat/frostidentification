{
  "cells": [
    {
      "cell_type": "code",
      "execution_count": 96,
      "metadata": {
        "id": "zhGpSyUMghTh"
      },
      "outputs": [],
      "source": [
        "import os\n",
        "import os.path as op\n",
        "import json\n",
        "from pathlib import Path\n",
        "import shutil\n",
        "import logging\n",
        "import numpy as np\n",
        "from tqdm import tqdm\n",
        "from skimage import io\n",
        "import matplotlib.pyplot as plt\n",
        "import pandas as pd\n",
        "from sklearn.metrics import classification_report\n",
        "import warnings\n",
        "warnings.filterwarnings('ignore')"
      ]
    },
    {
      "cell_type": "code",
      "source": [
        "from google.colab import drive\n",
        "drive.mount('/content/drive')"
      ],
      "metadata": {
        "colab": {
          "base_uri": "https://localhost:8080/"
        },
        "id": "g-9Z_JL9tZBW",
        "outputId": "aa57d351-5c0b-40e5-a3ea-b74042fad925"
      },
      "execution_count": 56,
      "outputs": [
        {
          "output_type": "stream",
          "name": "stdout",
          "text": [
            "Drive already mounted at /content/drive; to attempt to forcibly remount, call drive.mount(\"/content/drive\", force_remount=True).\n"
          ]
        }
      ]
    },
    {
      "cell_type": "code",
      "source": [
        "from zipfile import ZipFile\n",
        "zip_path = '/content/drive/MyDrive/data.zip'\n",
        "\n",
        "extract_path = '/content/'\n",
        "\n",
        "with ZipFile(zip_path, 'r') as z:\n",
        "    z.extractall(path=extract_path)"
      ],
      "metadata": {
        "id": "yYpnw5q96d9j"
      },
      "execution_count": 58,
      "outputs": []
    },
    {
      "cell_type": "code",
      "execution_count": 4,
      "metadata": {
        "id": "3n0Wh_ymghTj"
      },
      "outputs": [],
      "source": [
        "# Logging configuration\n",
        "logging.basicConfig(level=logging.INFO,\n",
        "                    datefmt='%H:%M:%S',\n",
        "                    format='%(asctime)s | %(levelname)-5s | %(module)-15s | %(message)s')\n",
        "\n",
        "IMAGE_SIZE = (299, 299)  # All images contained in this dataset are 299x299\n",
        "SEED = 17\n",
        "\n",
        "# Head directory containing all image subframes. Update with the relative path of your data directory\n",
        "data_head_dir = Path('/content/data')\n",
        "\n",
        "# Find all subframe directories\n",
        "subdirs = [Path(subdir.stem) for subdir in data_head_dir.iterdir() if subdir.is_dir()]\n",
        "src_image_ids = ['_'.join(a_path.name.split('_')[:3]) for a_path in subdirs]"
      ]
    },
    {
      "cell_type": "code",
      "execution_count": 5,
      "metadata": {
        "id": "N59ZEIgQghTk"
      },
      "outputs": [],
      "source": [
        "# Load train/val/test subframe IDs\n",
        "def load_text_ids(file_path):\n",
        "    \"\"\"Simple helper to load all lines from a text file\"\"\"\n",
        "    with open(file_path, 'r') as f:\n",
        "        lines = [line.strip() for line in f.readlines()]\n",
        "    return lines\n",
        "\n",
        "# Load the subframe names for the three data subsets\n",
        "\n",
        "train_ids = load_text_ids('/content/drive/MyDrive/train_source_images.txt')\n",
        "validate_ids = load_text_ids('/content/drive/MyDrive/val_source_images.txt')\n",
        "test_ids = load_text_ids('/content/drive/MyDrive/test_source_images.txt')\n",
        "\n",
        "# Generate a list containing the dataset split for the matching subdirectory names\n",
        "subdir_splits = []\n",
        "for src_id in src_image_ids:\n",
        "    if src_id in train_ids:\n",
        "        subdir_splits.append('train')\n",
        "    elif src_id in validate_ids:\n",
        "        subdir_splits.append('validate')\n",
        "    elif(src_id in test_ids):\n",
        "        subdir_splits.append('test')\n",
        "    else:\n",
        "        logging.warning(f'{src_id}: Did not find designated split in train/validate/test list.')\n",
        "        subdir_splits.append(None)"
      ]
    },
    {
      "cell_type": "markdown",
      "metadata": {
        "id": "SUM7GAkmghTk"
      },
      "source": [
        "# Loading and pre processing the data\n",
        "### Note that there are multiple ways to preprocess and load your data in order to train your model in tensorflow. We have provided one way to do it in the following cell. Feel free to use your own method and get better results."
      ]
    },
    {
      "cell_type": "code",
      "execution_count": 6,
      "metadata": {
        "id": "B1vtzdwughTn"
      },
      "outputs": [],
      "source": [
        "import random\n",
        "# !pip install tensorflow\n",
        "import tensorflow as tf\n",
        "from PIL import Image\n",
        "\n",
        "def load_and_preprocess(img_loc, label):\n",
        "\n",
        "    def _inner_function(img_loc, label):\n",
        "\n",
        "        # Convert tensor to native type\n",
        "        img_loc_str = img_loc.numpy().decode('utf-8')\n",
        "        # label_str = label.numpy().decode('utf-8')\n",
        "\n",
        "        img = Image.open(img_loc_str).convert('RGB')\n",
        "        img = np.array(img)\n",
        "        img = tf.image.resize(img, [299, 299])\n",
        "\n",
        "        img = img / 255.0\n",
        "        label = 1 if label.numpy().decode('utf-8') == 'frost' else 0\n",
        "\n",
        "        return img, label\n",
        "\n",
        "    # Wrap the Python function\n",
        "    X, y = tf.py_function(_inner_function, [img_loc, label], [tf.float32, tf.int64])\n",
        "    X.set_shape([299, 299, 3])\n",
        "    y.set_shape([])\n",
        "\n",
        "    return X, y\n",
        "\n",
        "def load_subdir_data(dir_path, image_size, seed=None):\n",
        "\n",
        "    \"\"\"Helper to create a TF dataset from each image subdirectory\"\"\"\n",
        "\n",
        "    # Grab only the classes that (1) we want to keep and (2) exist in this directory\n",
        "    tile_dir = dir_path / Path('tiles')\n",
        "    label_dir = dir_path /Path('labels')\n",
        "\n",
        "    loc_list = []\n",
        "\n",
        "    for folder in os.listdir(tile_dir):\n",
        "        if os.path.isdir(os.path.join(tile_dir, folder)):\n",
        "            for file in os.listdir(os.path.join(tile_dir, folder)):\n",
        "                if file.endswith(\".png\"):\n",
        "                    loc_list.append((os.path.join(os.path.join(tile_dir, folder), file), folder))\n",
        "\n",
        "    return loc_list\n",
        "\n",
        "# Loop over all subframes, loading each into a list\n",
        "tf_data_train, tf_data_test, tf_data_val = [], [], []\n",
        "tf_dataset_train, tf_dataset_test, tf_dataset_val = [], [], []\n",
        "\n",
        "# Update the batch and buffer size as per your model requirements\n",
        "buffer_size = 64\n",
        "batch_size = 32\n",
        "\n",
        "for subdir, split in zip(subdirs, subdir_splits):\n",
        "    full_path = data_head_dir / subdir\n",
        "    if split=='validate':\n",
        "        tf_data_val.extend(load_subdir_data(full_path, IMAGE_SIZE, SEED))\n",
        "    elif split=='train':\n",
        "        tf_data_train.extend(load_subdir_data(full_path, IMAGE_SIZE, SEED))\n",
        "    elif split=='test':\n",
        "        tf_data_test.extend(load_subdir_data(full_path, IMAGE_SIZE, SEED))\n",
        "\n",
        "random.shuffle(tf_data_train)\n",
        "img_list, label_list = zip(*tf_data_train)\n",
        "img_list_t = tf.convert_to_tensor(img_list)\n",
        "lb_list_t = tf.convert_to_tensor(label_list)\n",
        "\n",
        "tf_dataset_train = tf.data.Dataset.from_tensor_slices((img_list_t, lb_list_t))\n",
        "tf_dataset_train = tf_dataset_train.map(load_and_preprocess, num_parallel_calls=tf.data.experimental.AUTOTUNE)\n",
        "tf_dataset_train = tf_dataset_train.shuffle(buffer_size=buffer_size).batch(batch_size)\n",
        "\n",
        "random.shuffle(tf_data_val)\n",
        "img_list, label_list = zip(*tf_data_val)\n",
        "img_list_t = tf.convert_to_tensor(img_list)\n",
        "lb_list_t = tf.convert_to_tensor(label_list)\n",
        "\n",
        "tf_dataset_val = tf.data.Dataset.from_tensor_slices((img_list_t, lb_list_t))\n",
        "tf_dataset_val = tf_dataset_val.map(load_and_preprocess, num_parallel_calls=tf.data.experimental.AUTOTUNE)\n",
        "tf_dataset_val = tf_dataset_val.shuffle(buffer_size=buffer_size).batch(batch_size)\n",
        "\n",
        "random.shuffle(tf_data_test)\n",
        "img_list, label_list = zip(*tf_data_test)\n",
        "img_list_t = tf.convert_to_tensor(img_list)\n",
        "lb_list_t = tf.convert_to_tensor(label_list)\n",
        "\n",
        "tf_dataset_test = tf.data.Dataset.from_tensor_slices((img_list_t, lb_list_t))\n",
        "tf_dataset_test = tf_dataset_test.map(load_and_preprocess, num_parallel_calls=tf.data.experimental.AUTOTUNE)\n",
        "tf_dataset_test = tf_dataset_test.shuffle(buffer_size=buffer_size).batch(batch_size)"
      ]
    },
    {
      "cell_type": "code",
      "execution_count": 7,
      "metadata": {
        "id": "eSJMis8cghTp",
        "outputId": "4e8b744c-03ac-49cc-b854-f989b34d3ea5",
        "colab": {
          "base_uri": "https://localhost:8080/"
        }
      },
      "outputs": [
        {
          "output_type": "stream",
          "name": "stdout",
          "text": [
            "Requirement already satisfied: tensorflow in /usr/local/lib/python3.10/dist-packages (2.14.0)\n",
            "Requirement already satisfied: opencv-python in /usr/local/lib/python3.10/dist-packages (4.8.0.76)\n",
            "Requirement already satisfied: absl-py>=1.0.0 in /usr/local/lib/python3.10/dist-packages (from tensorflow) (1.4.0)\n",
            "Requirement already satisfied: astunparse>=1.6.0 in /usr/local/lib/python3.10/dist-packages (from tensorflow) (1.6.3)\n",
            "Requirement already satisfied: flatbuffers>=23.5.26 in /usr/local/lib/python3.10/dist-packages (from tensorflow) (23.5.26)\n",
            "Requirement already satisfied: gast!=0.5.0,!=0.5.1,!=0.5.2,>=0.2.1 in /usr/local/lib/python3.10/dist-packages (from tensorflow) (0.5.4)\n",
            "Requirement already satisfied: google-pasta>=0.1.1 in /usr/local/lib/python3.10/dist-packages (from tensorflow) (0.2.0)\n",
            "Requirement already satisfied: h5py>=2.9.0 in /usr/local/lib/python3.10/dist-packages (from tensorflow) (3.9.0)\n",
            "Requirement already satisfied: libclang>=13.0.0 in /usr/local/lib/python3.10/dist-packages (from tensorflow) (16.0.6)\n",
            "Requirement already satisfied: ml-dtypes==0.2.0 in /usr/local/lib/python3.10/dist-packages (from tensorflow) (0.2.0)\n",
            "Requirement already satisfied: numpy>=1.23.5 in /usr/local/lib/python3.10/dist-packages (from tensorflow) (1.23.5)\n",
            "Requirement already satisfied: opt-einsum>=2.3.2 in /usr/local/lib/python3.10/dist-packages (from tensorflow) (3.3.0)\n",
            "Requirement already satisfied: packaging in /usr/local/lib/python3.10/dist-packages (from tensorflow) (23.2)\n",
            "Requirement already satisfied: protobuf!=4.21.0,!=4.21.1,!=4.21.2,!=4.21.3,!=4.21.4,!=4.21.5,<5.0.0dev,>=3.20.3 in /usr/local/lib/python3.10/dist-packages (from tensorflow) (3.20.3)\n",
            "Requirement already satisfied: setuptools in /usr/local/lib/python3.10/dist-packages (from tensorflow) (67.7.2)\n",
            "Requirement already satisfied: six>=1.12.0 in /usr/local/lib/python3.10/dist-packages (from tensorflow) (1.16.0)\n",
            "Requirement already satisfied: termcolor>=1.1.0 in /usr/local/lib/python3.10/dist-packages (from tensorflow) (2.3.0)\n",
            "Requirement already satisfied: typing-extensions>=3.6.6 in /usr/local/lib/python3.10/dist-packages (from tensorflow) (4.5.0)\n",
            "Requirement already satisfied: wrapt<1.15,>=1.11.0 in /usr/local/lib/python3.10/dist-packages (from tensorflow) (1.14.1)\n",
            "Requirement already satisfied: tensorflow-io-gcs-filesystem>=0.23.1 in /usr/local/lib/python3.10/dist-packages (from tensorflow) (0.34.0)\n",
            "Requirement already satisfied: grpcio<2.0,>=1.24.3 in /usr/local/lib/python3.10/dist-packages (from tensorflow) (1.59.3)\n",
            "Requirement already satisfied: tensorboard<2.15,>=2.14 in /usr/local/lib/python3.10/dist-packages (from tensorflow) (2.14.1)\n",
            "Requirement already satisfied: tensorflow-estimator<2.15,>=2.14.0 in /usr/local/lib/python3.10/dist-packages (from tensorflow) (2.14.0)\n",
            "Requirement already satisfied: keras<2.15,>=2.14.0 in /usr/local/lib/python3.10/dist-packages (from tensorflow) (2.14.0)\n",
            "Requirement already satisfied: wheel<1.0,>=0.23.0 in /usr/local/lib/python3.10/dist-packages (from astunparse>=1.6.0->tensorflow) (0.42.0)\n",
            "Requirement already satisfied: google-auth<3,>=1.6.3 in /usr/local/lib/python3.10/dist-packages (from tensorboard<2.15,>=2.14->tensorflow) (2.17.3)\n",
            "Requirement already satisfied: google-auth-oauthlib<1.1,>=0.5 in /usr/local/lib/python3.10/dist-packages (from tensorboard<2.15,>=2.14->tensorflow) (1.0.0)\n",
            "Requirement already satisfied: markdown>=2.6.8 in /usr/local/lib/python3.10/dist-packages (from tensorboard<2.15,>=2.14->tensorflow) (3.5.1)\n",
            "Requirement already satisfied: requests<3,>=2.21.0 in /usr/local/lib/python3.10/dist-packages (from tensorboard<2.15,>=2.14->tensorflow) (2.31.0)\n",
            "Requirement already satisfied: tensorboard-data-server<0.8.0,>=0.7.0 in /usr/local/lib/python3.10/dist-packages (from tensorboard<2.15,>=2.14->tensorflow) (0.7.2)\n",
            "Requirement already satisfied: werkzeug>=1.0.1 in /usr/local/lib/python3.10/dist-packages (from tensorboard<2.15,>=2.14->tensorflow) (3.0.1)\n",
            "Requirement already satisfied: cachetools<6.0,>=2.0.0 in /usr/local/lib/python3.10/dist-packages (from google-auth<3,>=1.6.3->tensorboard<2.15,>=2.14->tensorflow) (5.3.2)\n",
            "Requirement already satisfied: pyasn1-modules>=0.2.1 in /usr/local/lib/python3.10/dist-packages (from google-auth<3,>=1.6.3->tensorboard<2.15,>=2.14->tensorflow) (0.3.0)\n",
            "Requirement already satisfied: rsa<5,>=3.1.4 in /usr/local/lib/python3.10/dist-packages (from google-auth<3,>=1.6.3->tensorboard<2.15,>=2.14->tensorflow) (4.9)\n",
            "Requirement already satisfied: requests-oauthlib>=0.7.0 in /usr/local/lib/python3.10/dist-packages (from google-auth-oauthlib<1.1,>=0.5->tensorboard<2.15,>=2.14->tensorflow) (1.3.1)\n",
            "Requirement already satisfied: charset-normalizer<4,>=2 in /usr/local/lib/python3.10/dist-packages (from requests<3,>=2.21.0->tensorboard<2.15,>=2.14->tensorflow) (3.3.2)\n",
            "Requirement already satisfied: idna<4,>=2.5 in /usr/local/lib/python3.10/dist-packages (from requests<3,>=2.21.0->tensorboard<2.15,>=2.14->tensorflow) (3.6)\n",
            "Requirement already satisfied: urllib3<3,>=1.21.1 in /usr/local/lib/python3.10/dist-packages (from requests<3,>=2.21.0->tensorboard<2.15,>=2.14->tensorflow) (2.0.7)\n",
            "Requirement already satisfied: certifi>=2017.4.17 in /usr/local/lib/python3.10/dist-packages (from requests<3,>=2.21.0->tensorboard<2.15,>=2.14->tensorflow) (2023.11.17)\n",
            "Requirement already satisfied: MarkupSafe>=2.1.1 in /usr/local/lib/python3.10/dist-packages (from werkzeug>=1.0.1->tensorboard<2.15,>=2.14->tensorflow) (2.1.3)\n",
            "Requirement already satisfied: pyasn1<0.6.0,>=0.4.6 in /usr/local/lib/python3.10/dist-packages (from pyasn1-modules>=0.2.1->google-auth<3,>=1.6.3->tensorboard<2.15,>=2.14->tensorflow) (0.5.1)\n",
            "Requirement already satisfied: oauthlib>=3.0.0 in /usr/local/lib/python3.10/dist-packages (from requests-oauthlib>=0.7.0->google-auth-oauthlib<1.1,>=0.5->tensorboard<2.15,>=2.14->tensorflow) (3.2.2)\n"
          ]
        }
      ],
      "source": [
        "!pip install tensorflow opencv-python"
      ]
    },
    {
      "cell_type": "markdown",
      "metadata": {
        "id": "XsMl85qighTp"
      },
      "source": [
        "<h3>Empirical Regularization</h3>\n",
        "    \n",
        "Randomly zoom, rotate, flip, contrast, and translate images in your training set for image augmentation.\n",
        "\n",
        "Based on this dataset, I believe *random contrast adjustment, rotation, and flipping* would be the best. The model will learn based on different orientations of features, which could be helpful for satellite images. It will further learn from different parts of the image at different orientations by flipping, which could identify terrain features better. The model will learn to be more robust to changes in lighting, as well."
      ]
    },
    {
      "cell_type": "code",
      "execution_count": 9,
      "metadata": {
        "id": "06E7e1kMghTp"
      },
      "outputs": [],
      "source": [
        "# Helper methods for image augmentation\n",
        "def random_contrast(image, lower=0.5, upper=1.5):\n",
        "    factor = np.random.uniform(lower, upper)\n",
        "    return tf.image.adjust_contrast(image, factor)\n",
        "\n",
        "def random_flip(image, label):\n",
        "    image = tf.image.random_flip_up_down(image)\n",
        "    return image, label\n",
        "\n",
        "def random_zoom(image, label):\n",
        "    # Extract the height and width from the shape of the image\n",
        "    shape = tf.shape(image)\n",
        "    height, width = tf.cast(shape[-3], tf.float32), tf.cast(shape[-2], tf.float32)\n",
        "\n",
        "    zoom_factor = tf.random.uniform([], 0.8, 1.2)\n",
        "    new_height, new_width = tf.cast(height * zoom_factor, tf.int32), tf.cast(width * zoom_factor, tf.int32)\n",
        "\n",
        "    # Resize and then crop the image\n",
        "    image = tf.image.resize(image, [new_height, new_width])\n",
        "    image = tf.image.random_crop(image, size=[tf.cast(height, tf.int32), tf.cast(width, tf.int32), 3])\n",
        "\n",
        "    return image, label\n",
        "\n",
        "def random_rotation(image, label):\n",
        "    image = tf.image.rot90(image, k=np.random.randint(4))\n",
        "    return image, label\n",
        "\n",
        "def random_translate(image):\n",
        "    image = tf.image.random_translation(image, 0.2, 0.2)\n",
        "    return image\n",
        "\n",
        "def image_augmentation(image, label):\n",
        "    image = tf.convert_to_tensor(image, dtype=tf.float32)\n",
        "\n",
        "    # Selectively augment data to prevent all augmentations on every image\n",
        "    augment = tf.random.uniform(shape =[], minval=0, maxval=3, dtype=tf.int32)  # 33.33% chance to augment image\n",
        "    if augment == 1: #1/9 of the entire data set will be contrast adjusted, rotated, or flipped.\n",
        "        choice = tf.random.uniform(shape = [], minval=0, maxval=3, dtype=tf.int32)\n",
        "        if choice == 0:\n",
        "            image = random_contrast(image)\n",
        "        elif choice == 1:\n",
        "            image, label = random_rotation(image, label)\n",
        "        elif choice == 2:\n",
        "            image, label = random_flip(image, label)\n",
        "\n",
        "    # Normalize the image\n",
        "    image /= 255.0\n",
        "\n",
        "    return image, label"
      ]
    },
    {
      "cell_type": "code",
      "execution_count": 10,
      "metadata": {
        "id": "bIdQaE3_ghTp"
      },
      "outputs": [],
      "source": [
        "augmented_train_dataset = tf_dataset_train.map(image_augmentation, num_parallel_calls=tf.data.experimental.AUTOTUNE)"
      ]
    },
    {
      "cell_type": "markdown",
      "metadata": {
        "id": "PpigWCg1ghTq"
      },
      "source": [
        "<h3> Train a three-layer CNN followed by a dense layer on the data </h3>"
      ]
    },
    {
      "cell_type": "code",
      "execution_count": 59,
      "metadata": {
        "id": "mdEdVZK3ghTq"
      },
      "outputs": [],
      "source": [
        "from tensorflow.keras import models, layers, regularizers\n",
        "from tensorflow.keras import metrics\n",
        "from tensorflow.keras.callbacks import EarlyStopping, ModelCheckpoint\n",
        "from tensorflow.keras.optimizers import Adam\n",
        "\n",
        "model = models.Sequential([\n",
        "    #1\n",
        "    layers.Conv2D(32, (3, 3), activation='relu', input_shape=(299, 299, 3)),\n",
        "    layers.BatchNormalization(),\n",
        "    layers.MaxPooling2D((2, 2)),\n",
        "\n",
        "    #2\n",
        "    layers.Conv2D(64, (3, 3), activation='relu', kernel_regularizer=regularizers.l2(0.1)),\n",
        "    layers.BatchNormalization(),\n",
        "    layers.MaxPooling2D((2, 2)),\n",
        "\n",
        "    #3\n",
        "    layers.Conv2D(128, (3, 3), activation='relu', kernel_regularizer=regularizers.l2(0.1)),\n",
        "    layers.BatchNormalization(),\n",
        "    layers.MaxPooling2D((2, 2)),\n",
        "\n",
        "    layers.Flatten(),\n",
        "    layers.Dense(128, activation='relu', kernel_regularizer=regularizers.l2(0.1)),\n",
        "    layers.Dropout(0.3),\n",
        "    layers.Dense(1, activation='sigmoid')  # Use sigmoid for binary classification\n",
        "])\n",
        "\n",
        "# Use cross entropy loss\n",
        "model.compile(optimizer=Adam(learning_rate=0.00001),loss='binary_crossentropy', metrics=['accuracy', metrics.Precision(name='precision'),\n",
        "                       metrics.Recall(name='recall')])\n",
        "\n",
        "# Perform early stopping using the validation set\n",
        "early_stopping = EarlyStopping(monitor='val_loss', patience=7)\n",
        "model_checkpoint = ModelCheckpoint('best_CNN_MLP_model.tf', monitor='val_loss', save_best_only=True, save_format ='tf')"
      ]
    },
    {
      "cell_type": "code",
      "execution_count": 60,
      "metadata": {
        "colab": {
          "base_uri": "https://localhost:8080/"
        },
        "id": "0bAUwfP8ghTq",
        "outputId": "7b2851a9-02f7-485f-ea78-42f57c1d3fef"
      },
      "outputs": [
        {
          "output_type": "stream",
          "name": "stdout",
          "text": [
            "Epoch 1/20\n",
            "928/928 [==============================] - 162s 172ms/step - loss: 29.1686 - accuracy: 0.7377 - precision: 0.7700 - recall: 0.7896 - val_loss: 443.5508 - val_accuracy: 0.2375 - val_precision: 0.2540 - val_recall: 0.7068\n",
            "Epoch 2/20\n",
            "928/928 [==============================] - 155s 167ms/step - loss: 16.4830 - accuracy: 0.7954 - precision: 0.8172 - recall: 0.8398 - val_loss: 810.1567 - val_accuracy: 0.2307 - val_precision: 0.2526 - val_recall: 0.7101\n",
            "Epoch 3/20\n",
            "928/928 [==============================] - 159s 172ms/step - loss: 10.3843 - accuracy: 0.8201 - precision: 0.8346 - recall: 0.8653 - val_loss: 371.1178 - val_accuracy: 0.3037 - val_precision: 0.2739 - val_recall: 0.7051\n",
            "Epoch 4/20\n",
            "928/928 [==============================] - 157s 169ms/step - loss: 7.5766 - accuracy: 0.8376 - precision: 0.8461 - recall: 0.8845 - val_loss: 590.0267 - val_accuracy: 0.2590 - val_precision: 0.2609 - val_recall: 0.7106\n",
            "Epoch 5/20\n",
            "928/928 [==============================] - 157s 169ms/step - loss: 6.2052 - accuracy: 0.8567 - precision: 0.8632 - recall: 0.8986 - val_loss: 450.9327 - val_accuracy: 0.2965 - val_precision: 0.2717 - val_recall: 0.7057\n",
            "Epoch 6/20\n",
            "928/928 [==============================] - 155s 167ms/step - loss: 5.4306 - accuracy: 0.8702 - precision: 0.8752 - recall: 0.9087 - val_loss: 473.1907 - val_accuracy: 0.2924 - val_precision: 0.2918 - val_recall: 0.8403\n",
            "Epoch 7/20\n",
            "928/928 [==============================] - 157s 169ms/step - loss: 4.9203 - accuracy: 0.8802 - precision: 0.8853 - recall: 0.9146 - val_loss: 354.3012 - val_accuracy: 0.3682 - val_precision: 0.2985 - val_recall: 0.7134\n",
            "Epoch 8/20\n",
            "928/928 [==============================] - 158s 170ms/step - loss: 4.5498 - accuracy: 0.8834 - precision: 0.8900 - recall: 0.9148 - val_loss: 529.4973 - val_accuracy: 0.2950 - val_precision: 0.2935 - val_recall: 0.8464\n",
            "Epoch 9/20\n",
            "928/928 [==============================] - 158s 170ms/step - loss: 4.2452 - accuracy: 0.8908 - precision: 0.8960 - recall: 0.9211 - val_loss: 311.6831 - val_accuracy: 0.3591 - val_precision: 0.2937 - val_recall: 0.7059\n",
            "Epoch 10/20\n",
            "928/928 [==============================] - 157s 169ms/step - loss: 3.9942 - accuracy: 0.8929 - precision: 0.8987 - recall: 0.9217 - val_loss: 387.9601 - val_accuracy: 0.3139 - val_precision: 0.2912 - val_recall: 0.7894\n",
            "Epoch 11/20\n",
            "928/928 [==============================] - 159s 171ms/step - loss: 3.7768 - accuracy: 0.8956 - precision: 0.9018 - recall: 0.9228 - val_loss: 147.6054 - val_accuracy: 0.5015 - val_precision: 0.3629 - val_recall: 0.7266\n",
            "Epoch 12/20\n",
            "928/928 [==============================] - 155s 167ms/step - loss: 3.5794 - accuracy: 0.8979 - precision: 0.9046 - recall: 0.9237 - val_loss: 312.8055 - val_accuracy: 0.3220 - val_precision: 0.3028 - val_recall: 0.8497\n",
            "Epoch 13/20\n",
            "928/928 [==============================] - 157s 169ms/step - loss: 3.3974 - accuracy: 0.9029 - precision: 0.9086 - recall: 0.9282 - val_loss: 104.8162 - val_accuracy: 0.5384 - val_precision: 0.3850 - val_recall: 0.7269\n",
            "Epoch 14/20\n",
            "928/928 [==============================] - 154s 166ms/step - loss: 3.2351 - accuracy: 0.9064 - precision: 0.9123 - recall: 0.9302 - val_loss: 132.2139 - val_accuracy: 0.5276 - val_precision: 0.3759 - val_recall: 0.7081\n",
            "Epoch 15/20\n",
            "928/928 [==============================] - 154s 166ms/step - loss: 3.0948 - accuracy: 0.9052 - precision: 0.9110 - recall: 0.9294 - val_loss: 126.2237 - val_accuracy: 0.4730 - val_precision: 0.3564 - val_recall: 0.7913\n",
            "Epoch 16/20\n",
            "928/928 [==============================] - 157s 168ms/step - loss: 2.9513 - accuracy: 0.9138 - precision: 0.9200 - recall: 0.9346 - val_loss: 75.9510 - val_accuracy: 0.8461 - val_precision: 0.8378 - val_recall: 0.6470\n",
            "Epoch 17/20\n",
            "928/928 [==============================] - 153s 165ms/step - loss: 2.8392 - accuracy: 0.9108 - precision: 0.9171 - recall: 0.9326 - val_loss: 320.9766 - val_accuracy: 0.3301 - val_precision: 0.3023 - val_recall: 0.8271\n",
            "Epoch 18/20\n",
            "928/928 [==============================] - 154s 165ms/step - loss: 2.7251 - accuracy: 0.9133 - precision: 0.9214 - recall: 0.9321 - val_loss: 104.4654 - val_accuracy: 0.6353 - val_precision: 0.4567 - val_recall: 0.7024\n",
            "Epoch 19/20\n",
            "928/928 [==============================] - 153s 165ms/step - loss: 2.6215 - accuracy: 0.9174 - precision: 0.9221 - recall: 0.9388 - val_loss: 329.0424 - val_accuracy: 0.3207 - val_precision: 0.2946 - val_recall: 0.7968\n",
            "Epoch 20/20\n",
            "928/928 [==============================] - 154s 166ms/step - loss: 2.5269 - accuracy: 0.9149 - precision: 0.9223 - recall: 0.9339 - val_loss: 90.6276 - val_accuracy: 0.6107 - val_precision: 0.4358 - val_recall: 0.7126\n"
          ]
        }
      ],
      "source": [
        "# Train the CNN & MLP model for at least 20 epochs with the train data set\n",
        "history = model.fit(augmented_train_dataset, epochs = 20, validation_data = tf_dataset_val,\n",
        "                    callbacks=[early_stopping, model_checkpoint])"
      ]
    },
    {
      "cell_type": "code",
      "execution_count": 61,
      "metadata": {
        "id": "9Hr-h6efghTr",
        "colab": {
          "base_uri": "https://localhost:8080/",
          "height": 472
        },
        "outputId": "735cddf9-0b69-4f6e-d59e-121d262ac23f"
      },
      "outputs": [
        {
          "output_type": "display_data",
          "data": {
            "text/plain": [
              "<Figure size 640x480 with 1 Axes>"
            ],
            "image/png": "[encoded data removed]"
          },
          "metadata": {}
        }
      ],
      "source": [
        "# Plot training and validation errors vs. epochs\n",
        "plt.plot(history.history['loss'], label='Training Loss')\n",
        "plt.plot(history.history['val_loss'], label='Validation Loss')\n",
        "plt.title('Training and Validation Loss vs Epochs')\n",
        "plt.xlabel('Epochs')\n",
        "plt.ylabel('Loss')\n",
        "plt.legend()\n",
        "plt.show()"
      ]
    },
    {
      "cell_type": "code",
      "source": [
        "def calculate_f1_score(precision, recall):\n",
        "  return 2 * (precision * recall) / (precision + recall)\n",
        "\n",
        "train_precision = history.history['precision'][-1]\n",
        "train_recall = history.history['recall'][-1]\n",
        "train_f1_score = calculate_f1_score(train_precision, train_recall)\n",
        "\n",
        "trainCNN_MLP = {\n",
        "    'Metric': ['Precision', 'Recall', 'F1 Score'],\n",
        "    'Value': [train_precision, train_recall, train_f1_score]\n",
        "}"
      ],
      "metadata": {
        "id": "qQ28BaOW0fmB"
      },
      "execution_count": 62,
      "outputs": []
    },
    {
      "cell_type": "code",
      "source": [
        "from tensorflow.keras.models import load_model\n",
        "\n",
        "best_model = load_model('best_CNN_MLP_model.tf')\n",
        "\n",
        "val_loss, val_accuracy, val_precision, val_recall = model.evaluate(tf_dataset_val)\n",
        "val_f1_score = calculate_f1_score(val_precision, val_recall)\n",
        "\n",
        "validateCNN_MLP = {\n",
        "    'Metric': ['Precision', 'Recall', 'F1 Score'],\n",
        "    'Value': [val_precision, val_recall, val_f1_score]\n",
        "}\n"
      ],
      "metadata": {
        "colab": {
          "base_uri": "https://localhost:8080/"
        },
        "id": "25VyyCFH0sqw",
        "outputId": "c3b4318c-6dc0-4df6-9d3b-6700fbabe83b"
      },
      "execution_count": 63,
      "outputs": [
        {
          "output_type": "stream",
          "name": "stdout",
          "text": [
            "353/353 [==============================] - 37s 104ms/step - loss: 90.6276 - accuracy: 0.6107 - precision: 0.4358 - recall: 0.7126\n"
          ]
        }
      ]
    },
    {
      "cell_type": "code",
      "source": [
        "test_loss, test_accuracy, test_precision, test_recall = best_model.evaluate(tf_dataset_test)\n",
        "f1_score = 2 * (test_precision * test_recall) / (test_precision + test_recall)\n",
        "\n",
        "testCNN_MLP = {\n",
        "    'Metric': ['Precision', 'Recall', 'F1 Score'],\n",
        "    'Value': [test_precision, test_recall, f1_score]\n",
        "}"
      ],
      "metadata": {
        "colab": {
          "base_uri": "https://localhost:8080/"
        },
        "id": "XCTi-z8QsEfT",
        "outputId": "df4f8496-43b8-450b-9b9d-062d82945df6"
      },
      "execution_count": 93,
      "outputs": [
        {
          "output_type": "stream",
          "name": "stdout",
          "text": [
            "401/401 [==============================] - 44s 109ms/step - loss: 167.0232 - accuracy: 0.6235 - precision: 0.9290 - recall: 0.4608\n"
          ]
        }
      ]
    },
    {
      "cell_type": "code",
      "source": [
        "def evaluate_model(model, dataset, show_output=True):\n",
        "  y_true = []\n",
        "  y_pred = []\n",
        "  for images, labels in dataset:\n",
        "    predictions = model.predict(images, verbose=0)\n",
        "    y_true.extend(labels.numpy())\n",
        "    y_pred.extend(np.argmax(predictions, axis=1))\n",
        "\n",
        "  report = classification_report(y_true, y_pred)\n",
        "  return report\n",
        "\n",
        "CNN_MLP_train_metrics = pd.DataFrame(trainCNN_MLP)\n",
        "print(\"Train Set Metrics:\")\n",
        "print(CNN_MLP_train_metrics)\n",
        "train_report = evaluate_model(best_model, tf_dataset_train)\n",
        "print(train_report)\n",
        "\n",
        "CNN_MLP_val_metrics = pd.DataFrame(validateCNN_MLP)\n",
        "print(\"\\nValidation Set Metrics:\")\n",
        "print(CNN_MLP_val_metrics)\n",
        "val_report = evaluate_model(best_model, tf_dataset_val)\n",
        "print(val_report)\n",
        "\n",
        "CNN_MLP_test_metrics = pd.DataFrame(testCNN_MLP)\n",
        "print(\"\\nTest Set Metrics:\")\n",
        "print(CNN_MLP_test_metrics)\n",
        "test_report = evaluate_model(best_model, tf_dataset_test)\n",
        "print(test_report)"
      ],
      "metadata": {
        "colab": {
          "base_uri": "https://localhost:8080/"
        },
        "id": "iZDNgFa20Vc0",
        "outputId": "f5fb3213-9223-40fb-aec8-a447974cc841"
      },
      "execution_count": 97,
      "outputs": [
        {
          "output_type": "stream",
          "name": "stdout",
          "text": [
            "Train Set Metrics:\n",
            "      Metric     Value\n",
            "0  Precision  0.922324\n",
            "1     Recall  0.933903\n",
            "2   F1 Score  0.928077\n",
            "              precision    recall  f1-score   support\n",
            "\n",
            "           0       0.41      1.00      0.58     12235\n",
            "           1       0.00      0.00      0.00     17444\n",
            "\n",
            "    accuracy                           0.41     29679\n",
            "   macro avg       0.21      0.50      0.29     29679\n",
            "weighted avg       0.17      0.41      0.24     29679\n",
            "\n",
            "\n",
            "Validation Set Metrics:\n",
            "      Metric     Value\n",
            "0  Precision  0.435837\n",
            "1     Recall  0.712555\n",
            "2   F1 Score  0.540857\n",
            "              precision    recall  f1-score   support\n",
            "\n",
            "           0       0.68      1.00      0.81      7654\n",
            "           1       0.00      0.00      0.00      3632\n",
            "\n",
            "    accuracy                           0.68     11286\n",
            "   macro avg       0.34      0.50      0.40     11286\n",
            "weighted avg       0.46      0.68      0.55     11286\n",
            "\n",
            "\n",
            "Test Set Metrics:\n",
            "      Metric     Value\n",
            "0  Precision  0.929000\n",
            "1     Recall  0.460797\n",
            "2   F1 Score  0.616033\n",
            "              precision    recall  f1-score   support\n",
            "\n",
            "           0       0.34      1.00      0.51      4418\n",
            "           1       0.00      0.00      0.00      8405\n",
            "\n",
            "    accuracy                           0.34     12823\n",
            "   macro avg       0.17      0.50      0.26     12823\n",
            "weighted avg       0.12      0.34      0.18     12823\n",
            "\n"
          ]
        }
      ]
    },
    {
      "cell_type": "markdown",
      "source": [
        "## Transfering Learning\n",
        "using pre-trained models EfficientNetB0, ResNet50, and VGG16"
      ],
      "metadata": {
        "id": "ryWyy-t0oNeC"
      }
    },
    {
      "cell_type": "code",
      "source": [
        "from tensorflow.keras.applications import EfficientNetB0\n",
        "from tensorflow.keras.applications import ResNet50\n",
        "from tensorflow.keras.applications import VGG16\n",
        "from tensorflow.keras import models, layers\n",
        "from tensorflow.keras import regularizers\n",
        "\n",
        "# Load EfficientNetB0 without the top layer\n",
        "base_model_efficientNet = EfficientNetB0(weights='imagenet', include_top=False)\n",
        "for layer in base_model_efficientNet.layers:\n",
        "  layer.trainable = False\n",
        "\n",
        "efficientNet = models.Sequential([\n",
        "    base_model_efficientNet,\n",
        "    layers.GlobalAveragePooling2D(),\n",
        "    layers.BatchNormalization(),\n",
        "    layers.Dense(256, activation='relu'), #ReLU activation functions in the last layer\n",
        "    layers.Dropout(0.3), # Dropout rate of 30%\n",
        "    layers.BatchNormalization(),\n",
        "    layers.Dense(1, activation='sigmoid')\n",
        "])\n",
        "efficientNet.compile(optimizer=Adam(learning_rate=0.001), loss='binary_crossentropy', metrics=['accuracy', metrics.Precision(name='precision'),\n",
        "                       metrics.Recall(name='recall')])\n",
        "\n",
        "# Load ResNet50 without the top layer\n",
        "base_model_resnet = ResNet50(weights='imagenet', include_top=False)\n",
        "for layer in base_model_resnet.layers:\n",
        "  layer.trainable = False\n",
        "\n",
        "resnet_model = models.Sequential([\n",
        "    base_model_resnet,\n",
        "    layers.GlobalAveragePooling2D(),\n",
        "    layers.Dense(256, activation='relu'),\n",
        "    layers.BatchNormalization(),\n",
        "    layers.Dropout(0.3),\n",
        "    layers.Dense(1, activation='sigmoid')\n",
        "])\n",
        "resnet_model.compile(optimizer=Adam(learning_rate=0.01), loss='binary_crossentropy', metrics=['accuracy', metrics.Precision(name='precision'),\n",
        "                       metrics.Recall(name='recall')])\n",
        "\n",
        "# Load VGG16 model without the top layer\n",
        "base_model_vgg16 = VGG16(weights='imagenet', include_top=False)\n",
        "for layer in base_model_vgg16.layers:\n",
        "  layer.trainable = False\n",
        "\n",
        "model_vgg16 = models.Sequential([\n",
        "    base_model_vgg16,\n",
        "    layers.GlobalAveragePooling2D(),\n",
        "    layers.Dense(256, activation='relu'),\n",
        "    layers.BatchNormalization(),\n",
        "    layers.Dropout(0.3),\n",
        "    layers.Dense(1, activation='sigmoid')\n",
        "])\n",
        "\n",
        "model_vgg16.compile(optimizer=Adam(learning_rate=0.001), loss='binary_crossentropy', metrics=['accuracy', metrics.Precision(name='precision'),\n",
        "                       metrics.Recall(name='recall')])"
      ],
      "metadata": {
        "id": "_1sg8CKkoIYl"
      },
      "execution_count": 80,
      "outputs": []
    },
    {
      "cell_type": "code",
      "source": [
        "early_stopping = EarlyStopping(monitor='val_loss', patience=3, verbose=2)\n",
        "model_checkpoint = ModelCheckpoint('best_model.h5', monitor='val_loss', save_best_only=True)\n",
        "\n",
        "efficientNetHistory = efficientNet.fit(augmented_train_dataset,\n",
        "                    epochs=12, batch_size=8,\n",
        "                    validation_data=tf_dataset_val,\n",
        "                    callbacks=[early_stopping, model_checkpoint])"
      ],
      "metadata": {
        "colab": {
          "base_uri": "https://localhost:8080/"
        },
        "id": "QlKAvNcps8oM",
        "outputId": "492e5a64-e28f-4ee6-9be6-1c2fc7192ab4"
      },
      "execution_count": 71,
      "outputs": [
        {
          "output_type": "stream",
          "name": "stdout",
          "text": [
            "Epoch 1/12\n",
            "928/928 [==============================] - 173s 176ms/step - loss: 0.7303 - accuracy: 0.5559 - precision: 0.5921 - recall: 0.7859 - val_loss: 0.7669 - val_accuracy: 0.3218 - val_precision: 0.3218 - val_recall: 1.0000\n",
            "Epoch 2/12\n",
            "928/928 [==============================] - 163s 175ms/step - loss: 0.6893 - accuracy: 0.5708 - precision: 0.5883 - recall: 0.8982 - val_loss: 0.8043 - val_accuracy: 0.3218 - val_precision: 0.3218 - val_recall: 1.0000\n",
            "Epoch 3/12\n",
            "928/928 [==============================] - 163s 175ms/step - loss: 0.6841 - accuracy: 0.5762 - precision: 0.5872 - recall: 0.9386 - val_loss: 0.7922 - val_accuracy: 0.3218 - val_precision: 0.3218 - val_recall: 1.0000\n",
            "Epoch 4/12\n",
            "928/928 [==============================] - 165s 177ms/step - loss: 0.6829 - accuracy: 0.5796 - precision: 0.5881 - recall: 0.9503 - val_loss: 0.7761 - val_accuracy: 0.3218 - val_precision: 0.3218 - val_recall: 1.0000\n",
            "Epoch 5/12\n",
            "928/928 [==============================] - 162s 174ms/step - loss: 0.6830 - accuracy: 0.5812 - precision: 0.5881 - recall: 0.9597 - val_loss: 0.7944 - val_accuracy: 0.3218 - val_precision: 0.3218 - val_recall: 1.0000\n",
            "Epoch 6/12\n",
            "928/928 [==============================] - 163s 175ms/step - loss: 0.6821 - accuracy: 0.5813 - precision: 0.5875 - recall: 0.9657 - val_loss: 0.7470 - val_accuracy: 0.3218 - val_precision: 0.3218 - val_recall: 1.0000\n",
            "Epoch 7/12\n",
            "928/928 [==============================] - 163s 175ms/step - loss: 0.6818 - accuracy: 0.5803 - precision: 0.5870 - recall: 0.9650 - val_loss: 0.7613 - val_accuracy: 0.3218 - val_precision: 0.3218 - val_recall: 1.0000\n",
            "Epoch 8/12\n",
            "928/928 [==============================] - 164s 176ms/step - loss: 0.6820 - accuracy: 0.5815 - precision: 0.5884 - recall: 0.9582 - val_loss: 0.7785 - val_accuracy: 0.3218 - val_precision: 0.3218 - val_recall: 1.0000\n",
            "Epoch 9/12\n",
            "928/928 [==============================] - 163s 175ms/step - loss: 0.6813 - accuracy: 0.5834 - precision: 0.5880 - recall: 0.9730 - val_loss: 0.7759 - val_accuracy: 0.3218 - val_precision: 0.3218 - val_recall: 1.0000\n",
            "Epoch 10/12\n",
            "928/928 [==============================] - 163s 176ms/step - loss: 0.6815 - accuracy: 0.5829 - precision: 0.5872 - recall: 0.9778 - val_loss: 0.7740 - val_accuracy: 0.3218 - val_precision: 0.3218 - val_recall: 1.0000\n",
            "Epoch 11/12\n",
            "928/928 [==============================] - 164s 176ms/step - loss: 0.6810 - accuracy: 0.5829 - precision: 0.5875 - recall: 0.9749 - val_loss: 0.7552 - val_accuracy: 0.3218 - val_precision: 0.3218 - val_recall: 1.0000\n",
            "Epoch 12/12\n",
            "928/928 [==============================] - 163s 175ms/step - loss: 0.6808 - accuracy: 0.5839 - precision: 0.5877 - recall: 0.9785 - val_loss: 0.7487 - val_accuracy: 0.3218 - val_precision: 0.3218 - val_recall: 1.0000\n"
          ]
        }
      ]
    },
    {
      "cell_type": "code",
      "source": [
        "# Plot the training and validation errors vs. epochs for EfficientNetB0 model\n",
        "plt.figure(figsize=(12, 6))\n",
        "plt.plot(efficientNetHistory.history['loss'], label='Training Loss')\n",
        "plt.plot(efficientNetHistory.history['val_loss'], label='Validation Loss')\n",
        "plt.title('Training and Validation Loss vs Epoch for EfficientNetB0 model')\n",
        "plt.xlabel('Epochs')\n",
        "plt.ylabel('Loss')\n",
        "plt.legend()\n",
        "plt.show()"
      ],
      "metadata": {
        "colab": {
          "base_uri": "https://localhost:8080/",
          "height": 564
        },
        "id": "zP-BhhvYBXXG",
        "outputId": "890179e3-1b64-4ebd-ed00-f7563a1fb81e"
      },
      "execution_count": 72,
      "outputs": [
        {
          "output_type": "display_data",
          "data": {
            "text/plain": [
              "<Figure size 1200x600 with 1 Axes>"
            ],
            "image/png": "[encoded data removed]"
          },
          "metadata": {}
        }
      ]
    },
    {
      "cell_type": "code",
      "source": [
        "early_stopping = EarlyStopping(monitor='val_loss', patience=6, verbose=1)\n",
        "model_checkpoint = ModelCheckpoint('best_model_resnet.h5', monitor='val_loss', save_best_only=True)\n",
        "\n",
        "resnet_modelHistory = resnet_model.fit(augmented_train_dataset,\n",
        "                    epochs=12, batch_size=8,\n",
        "                    validation_data=tf_dataset_val,\n",
        "                    callbacks=[early_stopping, model_checkpoint])"
      ],
      "metadata": {
        "colab": {
          "base_uri": "https://localhost:8080/"
        },
        "id": "r9ZpxSjVBvrj",
        "outputId": "167e9725-e8e2-4442-b9c7-e445f6de5cef"
      },
      "execution_count": 81,
      "outputs": [
        {
          "output_type": "stream",
          "name": "stdout",
          "text": [
            "Epoch 1/12\n",
            "928/928 [==============================] - 192s 201ms/step - loss: 0.6002 - accuracy: 0.6738 - precision: 0.6924 - recall: 0.8009 - val_loss: 114.3473 - val_accuracy: 0.7679 - val_precision: 0.7430 - val_recall: 0.4259\n",
            "Epoch 2/12\n",
            "928/928 [==============================] - 186s 200ms/step - loss: 0.5858 - accuracy: 0.6784 - precision: 0.7007 - recall: 0.7905 - val_loss: 295.2837 - val_accuracy: 0.4347 - val_precision: 0.3489 - val_recall: 0.8733\n",
            "Epoch 3/12\n",
            "928/928 [==============================] - 187s 202ms/step - loss: 0.5776 - accuracy: 0.6828 - precision: 0.7053 - recall: 0.7907 - val_loss: 113.7767 - val_accuracy: 0.7929 - val_precision: 0.8038 - val_recall: 0.4716\n",
            "Epoch 4/12\n",
            "928/928 [==============================] - 187s 201ms/step - loss: 0.5765 - accuracy: 0.6867 - precision: 0.7081 - recall: 0.7947 - val_loss: 295.3467 - val_accuracy: 0.7258 - val_precision: 1.0000 - val_recall: 0.1479\n",
            "Epoch 5/12\n",
            "928/928 [==============================] - 185s 199ms/step - loss: 0.5680 - accuracy: 0.6950 - precision: 0.7178 - recall: 0.7929 - val_loss: 250.0399 - val_accuracy: 0.7617 - val_precision: 1.0000 - val_recall: 0.2594\n",
            "Epoch 6/12\n",
            "928/928 [==============================] - 184s 199ms/step - loss: 0.5729 - accuracy: 0.6937 - precision: 0.7142 - recall: 0.7983 - val_loss: 135.7316 - val_accuracy: 0.8039 - val_precision: 0.7928 - val_recall: 0.5289\n",
            "Epoch 7/12\n",
            "928/928 [==============================] - 184s 198ms/step - loss: 0.5737 - accuracy: 0.6911 - precision: 0.7100 - recall: 0.8020 - val_loss: 533.7116 - val_accuracy: 0.3913 - val_precision: 0.3327 - val_recall: 0.8863\n",
            "Epoch 8/12\n",
            "928/928 [==============================] - 185s 199ms/step - loss: 0.5653 - accuracy: 0.6976 - precision: 0.7161 - recall: 0.8043 - val_loss: 124.6247 - val_accuracy: 0.7125 - val_precision: 0.5410 - val_recall: 0.7029\n",
            "Epoch 9/12\n",
            "928/928 [==============================] - 184s 198ms/step - loss: 0.5682 - accuracy: 0.6945 - precision: 0.7152 - recall: 0.7981 - val_loss: 122.1647 - val_accuracy: 0.8253 - val_precision: 0.8358 - val_recall: 0.5688\n",
            "Epoch 9: early stopping\n"
          ]
        }
      ]
    },
    {
      "cell_type": "code",
      "source": [
        "# Plot the training and validation errors vs. epochs for ResNet50 model\n",
        "plt.figure(figsize=(12, 6))\n",
        "plt.plot(resnet_modelHistory.history['loss'], label='Training Loss')\n",
        "plt.plot(resnet_modelHistory.history['val_loss'], label='Validation Loss')\n",
        "plt.title('Training and Validation Loss vs Epoch for ResNet50 model')\n",
        "plt.xlabel('Epochs')\n",
        "plt.ylabel('Loss')\n",
        "plt.legend()\n",
        "plt.show()"
      ],
      "metadata": {
        "colab": {
          "base_uri": "https://localhost:8080/",
          "height": 564
        },
        "id": "wVnaXrqrBUUb",
        "outputId": "cd733bf0-fb53-4ddf-87d4-e7ef91b631e0"
      },
      "execution_count": 82,
      "outputs": [
        {
          "output_type": "display_data",
          "data": {
            "text/plain": [
              "<Figure size 1200x600 with 1 Axes>"
            ],
            "image/png": "[encoded data removed]"
          },
          "metadata": {}
        }
      ]
    },
    {
      "cell_type": "code",
      "source": [
        "early_stopping = EarlyStopping(monitor='val_loss', patience=7, verbose=1)\n",
        "model_checkpoint = ModelCheckpoint('best_model_vgg16_.h5', monitor='val_loss', save_best_only=True)\n",
        "\n",
        "vgg16_modelHistory = model_vgg16.fit(augmented_train_dataset,\n",
        "                    epochs=10, batch_size=8,\n",
        "                    validation_data=tf_dataset_val,\n",
        "                    callbacks=[early_stopping, model_checkpoint])"
      ],
      "metadata": {
        "colab": {
          "base_uri": "https://localhost:8080/"
        },
        "id": "TWVJyZ47GXvl",
        "outputId": "cf0b4e0f-e8c7-45d5-fbca-3d96323d1740"
      },
      "execution_count": 83,
      "outputs": [
        {
          "output_type": "stream",
          "name": "stdout",
          "text": [
            "Epoch 1/10\n",
            "928/928 [==============================] - 210s 224ms/step - loss: 0.6054 - accuracy: 0.6760 - precision: 0.6724 - recall: 0.8750 - val_loss: 85.1808 - val_accuracy: 0.7255 - val_precision: 0.7954 - val_recall: 0.1980\n",
            "Epoch 2/10\n",
            "928/928 [==============================] - 212s 229ms/step - loss: 0.5462 - accuracy: 0.7107 - precision: 0.7162 - recall: 0.8411 - val_loss: 225.3559 - val_accuracy: 0.7072 - val_precision: 0.6325 - val_recall: 0.2156\n",
            "Epoch 3/10\n",
            "928/928 [==============================] - 213s 229ms/step - loss: 0.5086 - accuracy: 0.7405 - precision: 0.7500 - recall: 0.8375 - val_loss: 352.4580 - val_accuracy: 0.6920 - val_precision: 0.5581 - val_recall: 0.2062\n",
            "Epoch 4/10\n",
            "928/928 [==============================] - 212s 228ms/step - loss: 0.4950 - accuracy: 0.7489 - precision: 0.7623 - recall: 0.8323 - val_loss: 456.3989 - val_accuracy: 0.6896 - val_precision: 0.5574 - val_recall: 0.1724\n",
            "Epoch 5/10\n",
            "928/928 [==============================] - 211s 227ms/step - loss: 0.4908 - accuracy: 0.7548 - precision: 0.7683 - recall: 0.8344 - val_loss: 543.3057 - val_accuracy: 0.6866 - val_precision: 0.5570 - val_recall: 0.1278\n",
            "Epoch 6/10\n",
            "928/928 [==============================] - 207s 222ms/step - loss: 0.4789 - accuracy: 0.7638 - precision: 0.7770 - recall: 0.8390 - val_loss: 618.1654 - val_accuracy: 0.6771 - val_precision: 0.4933 - val_recall: 0.1217\n",
            "Epoch 7/10\n",
            "928/928 [==============================] - 209s 225ms/step - loss: 0.4790 - accuracy: 0.7628 - precision: 0.7776 - recall: 0.8354 - val_loss: 648.5040 - val_accuracy: 0.6592 - val_precision: 0.3904 - val_recall: 0.1049\n",
            "Epoch 8/10\n",
            "928/928 [==============================] - 212s 228ms/step - loss: 0.4721 - accuracy: 0.7689 - precision: 0.7823 - recall: 0.8407 - val_loss: 695.9099 - val_accuracy: 0.6415 - val_precision: 0.3206 - val_recall: 0.1019\n",
            "Epoch 8: early stopping\n"
          ]
        }
      ]
    },
    {
      "cell_type": "code",
      "source": [
        "# Plot the training and validation errors vs. epochs for VGG16 model\n",
        "plt.figure(figsize=(12, 6))\n",
        "plt.plot(vgg16_modelHistory.history['loss'], label='Training Loss')\n",
        "plt.plot(vgg16_modelHistory.history['val_loss'], label='Validation Loss')\n",
        "plt.title('Training and Validation Loss vs Epoch for VGG16 model')\n",
        "plt.xlabel('Epochs')\n",
        "plt.ylabel('Loss')\n",
        "plt.legend()\n",
        "plt.show()"
      ],
      "metadata": {
        "colab": {
          "base_uri": "https://localhost:8080/",
          "height": 564
        },
        "id": "hZl6cB0PtbvK",
        "outputId": "d73ddbc0-e446-4165-e0a9-2775094729a4"
      },
      "execution_count": 84,
      "outputs": [
        {
          "output_type": "display_data",
          "data": {
            "text/plain": [
              "<Figure size 1200x600 with 1 Axes>"
            ],
            "image/png": "[encoded data removed]"
          },
          "metadata": {}
        }
      ]
    },
    {
      "cell_type": "markdown",
      "source": [
        "EfficientNetB0"
      ],
      "metadata": {
        "id": "V8dODQPX8rZ0"
      }
    },
    {
      "cell_type": "code",
      "source": [
        "train_precision = efficientNetHistory.history['precision'][-1]\n",
        "train_recall = efficientNetHistory.history['recall'][-1]\n",
        "train_f1_score = calculate_f1_score(train_precision, train_recall)\n",
        "\n",
        "train_efficientnet = {\n",
        "    'Metric': ['Precision', 'Recall', 'F1 Score'],\n",
        "    'Value': [train_precision, train_recall, train_f1_score]\n",
        "}\n",
        "\n",
        "best_model_efficientnet = load_model('best_model.h5')\n",
        "\n",
        "val_loss, val_accuracy, val_precision, val_recall = best_model_efficientnet.evaluate(tf_dataset_val)\n",
        "val_f1_score = calculate_f1_score(val_precision, val_recall)\n",
        "\n",
        "val_efficientnet = {\n",
        "    'Metric': ['Precision', 'Recall', 'F1 Score'],\n",
        "    'Value': [val_precision, val_recall, val_f1_score]\n",
        "}\n",
        "\n",
        "test_loss, test_accuracy, test_precision, test_recall = best_model_efficientnet.evaluate(tf_dataset_test)\n",
        "f1_score = 2 * (test_precision * test_recall) / (test_precision + test_recall)\n",
        "\n",
        "test_efficientnet = {\n",
        "    'Metric': ['Precision', 'Recall', 'F1 Score'],\n",
        "    'Value': [test_precision, test_recall, f1_score]\n",
        "}"
      ],
      "metadata": {
        "colab": {
          "base_uri": "https://localhost:8080/"
        },
        "id": "0834pmuj9AOV",
        "outputId": "441fc853-e843-4529-d75c-634e0840f261"
      },
      "execution_count": 85,
      "outputs": [
        {
          "output_type": "stream",
          "name": "stdout",
          "text": [
            "353/353 [==============================] - 47s 128ms/step - loss: 0.7470 - accuracy: 0.3218 - precision: 0.3218 - recall: 1.0000\n",
            "401/401 [==============================] - 51s 128ms/step - loss: 0.6606 - accuracy: 0.6555 - precision: 0.6555 - recall: 1.0000\n"
          ]
        }
      ]
    },
    {
      "cell_type": "code",
      "source": [
        "efficientNet_train_metrics = pd.DataFrame(train_efficientnet)\n",
        "print(\"Train Set Metrics:\")\n",
        "print(efficientNet_train_metrics)\n",
        "train_report = evaluate_model(best_model_efficientnet, tf_dataset_train)\n",
        "print(train_report)\n",
        "\n",
        "efficientNet_val_metrics = pd.DataFrame(val_efficientnet)\n",
        "print(\"\\nValidation Set Metrics:\")\n",
        "print(efficientNet_val_metrics)\n",
        "val_report = evaluate_model(best_model_efficientnet, tf_dataset_val)\n",
        "print(val_report)\n",
        "\n",
        "efficientNet_test_metrics = pd.DataFrame(test_efficientnet)\n",
        "print(\"\\nTest Set Metrics:\")\n",
        "print(efficientNet_test_metrics)\n",
        "test_report = evaluate_model(best_model_efficientnet, tf_dataset_test)\n",
        "print(test_report)\n"
      ],
      "metadata": {
        "colab": {
          "base_uri": "https://localhost:8080/"
        },
        "id": "V_6vtDeg80n8",
        "outputId": "45d1e108-7faf-4a53-9753-6a1761a2d030"
      },
      "execution_count": 98,
      "outputs": [
        {
          "output_type": "stream",
          "name": "stdout",
          "text": [
            "Train Set Metrics:\n",
            "      Metric     Value\n",
            "0  Precision  0.587695\n",
            "1     Recall  0.978503\n",
            "2   F1 Score  0.734340\n",
            "              precision    recall  f1-score   support\n",
            "\n",
            "           0       0.41      1.00      0.58     12235\n",
            "           1       0.00      0.00      0.00     17444\n",
            "\n",
            "    accuracy                           0.41     29679\n",
            "   macro avg       0.21      0.50      0.29     29679\n",
            "weighted avg       0.17      0.41      0.24     29679\n",
            "\n",
            "\n",
            "Validation Set Metrics:\n",
            "      Metric     Value\n",
            "0  Precision  0.321815\n",
            "1     Recall  1.000000\n",
            "2   F1 Score  0.486929\n",
            "              precision    recall  f1-score   support\n",
            "\n",
            "           0       0.68      1.00      0.81      7654\n",
            "           1       0.00      0.00      0.00      3632\n",
            "\n",
            "    accuracy                           0.68     11286\n",
            "   macro avg       0.34      0.50      0.40     11286\n",
            "weighted avg       0.46      0.68      0.55     11286\n",
            "\n",
            "\n",
            "Test Set Metrics:\n",
            "      Metric     Value\n",
            "0  Precision  0.655463\n",
            "1     Recall  1.000000\n",
            "2   F1 Score  0.791879\n",
            "              precision    recall  f1-score   support\n",
            "\n",
            "           0       0.34      1.00      0.51      4418\n",
            "           1       0.00      0.00      0.00      8405\n",
            "\n",
            "    accuracy                           0.34     12823\n",
            "   macro avg       0.17      0.50      0.26     12823\n",
            "weighted avg       0.12      0.34      0.18     12823\n",
            "\n"
          ]
        }
      ]
    },
    {
      "cell_type": "markdown",
      "source": [
        "ResNet50"
      ],
      "metadata": {
        "id": "ecpi4j3y8vpK"
      }
    },
    {
      "cell_type": "code",
      "source": [
        "train_precision = resnet_modelHistory.history['precision'][-1]\n",
        "train_recall = resnet_modelHistory.history['recall'][-1]\n",
        "train_f1_score = calculate_f1_score(train_precision, train_recall)\n",
        "\n",
        "train_resnet = {\n",
        "    'Metric': ['Precision', 'Recall', 'F1 Score'],\n",
        "    'Value': [train_precision, train_recall, train_f1_score]\n",
        "}\n",
        "\n",
        "best_model_resnet = load_model('best_model_resnet.h5')\n",
        "\n",
        "val_loss, val_accuracy, val_precision, val_recall = best_model_resnet.evaluate(tf_dataset_val)\n",
        "val_f1_score = calculate_f1_score(val_precision, val_recall)\n",
        "\n",
        "val_resnet = {\n",
        "    'Metric': ['Precision', 'Recall', 'F1 Score'],\n",
        "    'Value': [val_precision, val_recall, val_f1_score]\n",
        "}\n",
        "\n",
        "test_loss, test_accuracy, test_precision, test_recall = best_model_resnet.evaluate(tf_dataset_test)\n",
        "f1_score = 2 * (test_precision * test_recall) / (test_precision + test_recall)\n",
        "\n",
        "test_resnet = {\n",
        "    'Metric': ['Precision', 'Recall', 'F1 Score'],\n",
        "    'Value': [test_precision, test_recall, f1_score]\n",
        "}"
      ],
      "metadata": {
        "colab": {
          "base_uri": "https://localhost:8080/"
        },
        "id": "E1oB2mykC1VO",
        "outputId": "59c682cb-db86-468c-823d-631127b32bc9"
      },
      "execution_count": 87,
      "outputs": [
        {
          "output_type": "stream",
          "name": "stdout",
          "text": [
            "353/353 [==============================] - 52s 145ms/step - loss: 113.7766 - accuracy: 0.7929 - precision: 0.8038 - recall: 0.4716\n",
            "401/401 [==============================] - 59s 145ms/step - loss: 485.4457 - accuracy: 0.6419 - precision: 0.9591 - recall: 0.4739\n"
          ]
        }
      ]
    },
    {
      "cell_type": "code",
      "source": [
        "resnet_train_metrics = pd.DataFrame(train_resnet)\n",
        "print(\"Train Set Metrics:\")\n",
        "print(resnet_train_metrics)\n",
        "train_report = evaluate_model(best_model_resnet, tf_dataset_train)\n",
        "print(train_report)\n",
        "\n",
        "resnet_val_metrics = pd.DataFrame(val_resnet)\n",
        "print(\"\\nValidation Set Metrics:\")\n",
        "print(resnet_val_metrics)\n",
        "val_report = evaluate_model(best_model_resnet, tf_dataset_val)\n",
        "print(val_report)\n",
        "\n",
        "resnet_test_metrics = pd.DataFrame(test_resnet)\n",
        "print(\"\\nTest Set Metrics:\")\n",
        "print(resnet_test_metrics)\n",
        "test_report = evaluate_model(best_model_resnet, tf_dataset_test)\n",
        "print(test_report)"
      ],
      "metadata": {
        "colab": {
          "base_uri": "https://localhost:8080/"
        },
        "id": "m-diReLQC1cN",
        "outputId": "e1bc190f-00f5-444a-8754-1775ba7e16e4"
      },
      "execution_count": 99,
      "outputs": [
        {
          "output_type": "stream",
          "name": "stdout",
          "text": [
            "Train Set Metrics:\n",
            "      Metric     Value\n",
            "0  Precision  0.715196\n",
            "1     Recall  0.798097\n",
            "2   F1 Score  0.754376\n",
            "              precision    recall  f1-score   support\n",
            "\n",
            "           0       0.41      1.00      0.58     12235\n",
            "           1       0.00      0.00      0.00     17444\n",
            "\n",
            "    accuracy                           0.41     29679\n",
            "   macro avg       0.21      0.50      0.29     29679\n",
            "weighted avg       0.17      0.41      0.24     29679\n",
            "\n",
            "\n",
            "Validation Set Metrics:\n",
            "      Metric     Value\n",
            "0  Precision  0.803848\n",
            "1     Recall  0.471641\n",
            "2   F1 Score  0.594482\n",
            "              precision    recall  f1-score   support\n",
            "\n",
            "           0       0.68      1.00      0.81      7654\n",
            "           1       0.00      0.00      0.00      3632\n",
            "\n",
            "    accuracy                           0.68     11286\n",
            "   macro avg       0.34      0.50      0.40     11286\n",
            "weighted avg       0.46      0.68      0.55     11286\n",
            "\n",
            "\n",
            "Test Set Metrics:\n",
            "      Metric     Value\n",
            "0  Precision  0.959066\n",
            "1     Recall  0.473885\n",
            "2   F1 Score  0.634337\n",
            "              precision    recall  f1-score   support\n",
            "\n",
            "           0       0.34      1.00      0.51      4418\n",
            "           1       0.00      0.00      0.00      8405\n",
            "\n",
            "    accuracy                           0.34     12823\n",
            "   macro avg       0.17      0.50      0.26     12823\n",
            "weighted avg       0.12      0.34      0.18     12823\n",
            "\n"
          ]
        }
      ]
    },
    {
      "cell_type": "markdown",
      "source": [
        "VGG16"
      ],
      "metadata": {
        "id": "rP4BpPnZ8xqt"
      }
    },
    {
      "cell_type": "code",
      "source": [
        "train_precision = vgg16_modelHistory.history['precision'][-1]\n",
        "train_recall = vgg16_modelHistory.history['recall'][-1]\n",
        "train_f1_score = calculate_f1_score(train_precision, train_recall)\n",
        "\n",
        "train_vgg16 = {\n",
        "    'Metric': ['Precision', 'Recall', 'F1 Score'],\n",
        "    'Value': [train_precision, train_recall, train_f1_score]\n",
        "}\n",
        "\n",
        "best_model_vgg16 = load_model('best_model_vgg16_.h5')\n",
        "\n",
        "val_loss, val_accuracy, val_precision, val_recall = best_model_vgg16.evaluate(tf_dataset_val)\n",
        "val_f1_score = calculate_f1_score(val_precision, val_recall)\n",
        "\n",
        "val_vgg16 = {\n",
        "    'Metric': ['Precision', 'Recall', 'F1 Score'],\n",
        "    'Value': [val_precision, val_recall, val_f1_score]\n",
        "}\n",
        "\n",
        "test_loss, test_accuracy, test_precision, test_recall = best_model_vgg16.evaluate(tf_dataset_test)\n",
        "f1_score = 2 * (test_precision * test_recall) / (test_precision + test_recall)\n",
        "\n",
        "test_vgg16 = {\n",
        "    'Metric': ['Precision', 'Recall', 'F1 Score'],\n",
        "    'Value': [test_precision, test_recall, f1_score]\n",
        "}"
      ],
      "metadata": {
        "colab": {
          "base_uri": "https://localhost:8080/"
        },
        "id": "j_Z5TUlzC4OQ",
        "outputId": "299f98f1-765b-41d2-9afd-4ee05387adbb"
      },
      "execution_count": 89,
      "outputs": [
        {
          "output_type": "stream",
          "name": "stdout",
          "text": [
            "353/353 [==============================] - 57s 161ms/step - loss: 85.1809 - accuracy: 0.7255 - precision: 0.7954 - recall: 0.1980\n",
            "401/401 [==============================] - 65s 161ms/step - loss: 86.1798 - accuracy: 0.5415 - precision: 0.8419 - recall: 0.3700\n"
          ]
        }
      ]
    },
    {
      "cell_type": "code",
      "source": [
        "vgg16_train_metrics = pd.DataFrame(train_vgg16)\n",
        "print(\"Train Set Metrics:\")\n",
        "print(vgg16_train_metrics)\n",
        "train_report = evaluate_model(best_model_vgg16, tf_dataset_train)\n",
        "print(train_report)\n",
        "\n",
        "vgg16_val_metrics = pd.DataFrame(val_vgg16)\n",
        "print(\"\\nValidation Set Metrics:\")\n",
        "print(vgg16_val_metrics)\n",
        "val_report = evaluate_model(best_model_vgg16, tf_dataset_val)\n",
        "print(val_report)\n",
        "\n",
        "vgg16_test_metrics = pd.DataFrame(test_vgg16)\n",
        "print(\"\\nTest Set Metrics:\")\n",
        "print(vgg16_test_metrics)\n",
        "test_report = evaluate_model(best_model_vgg16, tf_dataset_test)\n",
        "print(test_report)"
      ],
      "metadata": {
        "colab": {
          "base_uri": "https://localhost:8080/"
        },
        "id": "utly4SoIC4Q_",
        "outputId": "3628fabf-e7ce-4b9e-f23d-64ce49524963"
      },
      "execution_count": 100,
      "outputs": [
        {
          "output_type": "stream",
          "name": "stdout",
          "text": [
            "Train Set Metrics:\n",
            "      Metric     Value\n",
            "0  Precision  0.782270\n",
            "1     Recall  0.840748\n",
            "2   F1 Score  0.810455\n",
            "              precision    recall  f1-score   support\n",
            "\n",
            "           0       0.41      1.00      0.58     12235\n",
            "           1       0.00      0.00      0.00     17444\n",
            "\n",
            "    accuracy                           0.41     29679\n",
            "   macro avg       0.21      0.50      0.29     29679\n",
            "weighted avg       0.17      0.41      0.24     29679\n",
            "\n",
            "\n",
            "Validation Set Metrics:\n",
            "      Metric     Value\n",
            "0  Precision  0.795354\n",
            "1     Recall  0.197963\n",
            "2   F1 Score  0.317019\n",
            "              precision    recall  f1-score   support\n",
            "\n",
            "           0       0.68      1.00      0.81      7654\n",
            "           1       0.00      0.00      0.00      3632\n",
            "\n",
            "    accuracy                           0.68     11286\n",
            "   macro avg       0.34      0.50      0.40     11286\n",
            "weighted avg       0.46      0.68      0.55     11286\n",
            "\n",
            "\n",
            "Test Set Metrics:\n",
            "      Metric     Value\n",
            "0  Precision  0.841906\n",
            "1     Recall  0.370018\n",
            "2   F1 Score  0.514092\n",
            "              precision    recall  f1-score   support\n",
            "\n",
            "           0       0.34      1.00      0.51      4418\n",
            "           1       0.00      0.00      0.00      8405\n",
            "\n",
            "    accuracy                           0.34     12823\n",
            "   macro avg       0.17      0.50      0.26     12823\n",
            "weighted avg       0.12      0.34      0.18     12823\n",
            "\n"
          ]
        }
      ]
    },
    {
      "cell_type": "markdown",
      "source": [
        "<h3>Compare the results of Transfer Learning to CNN + MLP </h3>"
      ],
      "metadata": {
        "id": "uVz5TyMMPpux"
      }
    },
    {
      "cell_type": "markdown",
      "source": [
        "**Evaluating CNN/MLP**\n",
        "1. Train Set: High precision (0.922) and recall (0.934), which led to a high F1 Score (0.928).\n",
        "2. Validation Set: Precision drops a lot (0.436), but recall remains relatively high (0.713), which resulted in a moderate F1 Score (0.541).\n",
        "3. Test Set: Good precision (0.929) but low recall (0.461), which led to a moderate F1 Score (0.616).\n",
        "\n",
        "It looks like the CNN + MLP model is overfitting the training data, based on the high F1 score for train set, but much lower performance on the validation and test sets."
      ],
      "metadata": {
        "id": "FG2fRkp2OGWR"
      }
    },
    {
      "cell_type": "markdown",
      "source": [
        "**Evaluating EfficientNetB0**\n",
        "1. Train Set: Lower precision (0.588) but very high recall (0.979), which led to a decent F1 Score (0.734).\n",
        "2. Validation Set: Low precision (0.322) and high recall (1.000), which resulted in a lower F1 Score (0.487).\n",
        "3. Test Set: Moderate precision (0.655) and high recall (1.000), which led to a good F1 Score (0.792).\n",
        "\n",
        "**Evaluating ResNet50**\n",
        "1. Train Set: Moderate precision (0.715) and recall (0.798), which resulted in a good F1 Score (0.754).\n",
        "2. Validation Set: High precision (0.804) but lower recall (0.472), which led to a moderate F1 Score (0.594).\n",
        "3. Test Set: Very high precision (0.959) but lower recall (0.474), which led to a moderate F1 Score (0.634).\n",
        "\n",
        "**Evaluating VGG16**\n",
        "1. Train Set: Good precision (0.782) and recall (0.841), which led to a high F1 Score (0.810).\n",
        "2. Validation Set: High precision (0.795) but very low recall (0.198), resulted in a low F1 Score (0.317).\n",
        "3. Test Set: Good precision (0.842) but lower recall (0.370), which resulted in a moderate F1 Score (0.514)."
      ],
      "metadata": {
        "id": "U_wS9kf6OJhS"
      }
    },
    {
      "cell_type": "markdown",
      "source": [
        "**Overall Analysis**\n",
        "1. The transfer learning models, especially EfficientNetB0 and ResNet50, trend towards a higher recall value with varying precision values. These models seem to be better at identifying positive cases (frost), but falsely identify negative cases as positive (seen in the low precision values).\n",
        "2. The CNN + MLP model, while showing high precision and recall on the training set, fails to generalize well on both validation and test data, which indicates overfitting.\n",
        "3. ResNet50 and VGG16 show more balanced performance across precision and recall, particularly on the test set, compared to EfficientNetB0, which seems to be biased towards high recall.\n",
        "\n",
        "Since the CNN + MLP model shows signs of overfitting, the transfer learning models, particularly ResNet50 and VGG16, offer a more balanced trade-off between precision and recall, which would make them more reliable for generalization on frost detection in Martian HiRISE images. The high recall trend of the Transfer Learning models are helpful for applications where missing a positive case (not detecting frost) would be more harmful than identifying a false positive."
      ],
      "metadata": {
        "id": "P3f0T-A8OLJ1"
      }
    }
  ],
  "metadata": {
    "kernelspec": {
      "display_name": "Python 3",
      "name": "python3"
    },
    "language_info": {
      "codemirror_mode": {
        "name": "ipython",
        "version": 3
      },
      "file_extension": ".py",
      "mimetype": "text/x-python",
      "name": "python",
      "nbconvert_exporter": "python",
      "pygments_lexer": "ipython3",
      "version": "3.11.4"
    },
    "colab": {
      "provenance": [],
      "machine_shape": "hm",
      "gpuType": "V100"
    },
    "accelerator": "GPU"
  },
  "nbformat": 4,
  "nbformat_minor": 0
}